{
 "cells": [
  {
   "cell_type": "markdown",
   "metadata": {},
   "source": [
    "# Loading the data"
   ]
  },
  {
   "cell_type": "code",
   "execution_count": 1,
   "metadata": {
    "collapsed": true
   },
   "outputs": [],
   "source": [
    "import pandas as pd\n",
    "df_automotive = pd.read_csv('reviews_Automotive_5.csv')"
   ]
  },
  {
   "cell_type": "code",
   "execution_count": 2,
   "metadata": {
    "collapsed": true
   },
   "outputs": [],
   "source": [
    "df_automotive['tag'] = 'automotive'"
   ]
  },
  {
   "cell_type": "code",
   "execution_count": 3,
   "metadata": {
    "collapsed": true
   },
   "outputs": [],
   "source": [
    "automotive = df_automotive[['reviewText','tag']]"
   ]
  },
  {
   "cell_type": "code",
   "execution_count": 4,
   "metadata": {
    "collapsed": true
   },
   "outputs": [],
   "source": [
    "df_beauty = pd.read_csv('reviews_Beauty_5.csv')\n",
    "df_beauty['tag'] = 'beauty'\n",
    "beauty = df_beauty[['reviewText','tag']]"
   ]
  },
  {
   "cell_type": "code",
   "execution_count": 5,
   "metadata": {
    "collapsed": true
   },
   "outputs": [],
   "source": [
    "df_clothingShoesJewelry = pd.read_csv('reviews_Clothing_Shoes_and_Jewelry_5.csv')\n",
    "df_clothingShoesJewelry['tag'] = 'clothingShoesJewelry'\n",
    "clothingShoesJewelry = df_clothingShoesJewelry[['reviewText','tag']]"
   ]
  },
  {
   "cell_type": "code",
   "execution_count": 6,
   "metadata": {
    "collapsed": true
   },
   "outputs": [],
   "source": [
    "df_electronics = pd.read_csv('reviews_Electronics_5.csv')\n",
    "df_electronics['tag'] = 'electronics'\n",
    "electronics = df_electronics[['reviewText','tag']]"
   ]
  },
  {
   "cell_type": "code",
   "execution_count": 7,
   "metadata": {
    "collapsed": true
   },
   "outputs": [],
   "source": [
    "df_homeKitchen = pd.read_csv('reviews_Home_and_Kitchen_5.csv')\n",
    "df_homeKitchen['tag'] = 'homeKitchen'\n",
    "homeKitchen = df_homeKitchen[['reviewText','tag']]"
   ]
  },
  {
   "cell_type": "code",
   "execution_count": 8,
   "metadata": {
    "collapsed": true
   },
   "outputs": [],
   "source": [
    "reviews = pd.concat([automotive,beauty,clothingShoesJewelry,electronics,homeKitchen],ignore_index=True)"
   ]
  },
  {
   "cell_type": "code",
   "execution_count": 9,
   "metadata": {},
   "outputs": [
    {
     "name": "stdout",
     "output_type": "stream",
     "text": [
      "<class 'pandas.core.frame.DataFrame'>\n",
      "RangeIndex: 50000 entries, 0 to 49999\n",
      "Data columns (total 2 columns):\n",
      "reviewText    49983 non-null object\n",
      "tag           50000 non-null object\n",
      "dtypes: object(2)\n",
      "memory usage: 781.3+ KB\n"
     ]
    }
   ],
   "source": [
    "reviews.info()"
   ]
  },
  {
   "cell_type": "code",
   "execution_count": 34,
   "metadata": {},
   "outputs": [
    {
     "data": {
      "text/html": [
       "<div>\n",
       "<style>\n",
       "    .dataframe thead tr:only-child th {\n",
       "        text-align: right;\n",
       "    }\n",
       "\n",
       "    .dataframe thead th {\n",
       "        text-align: left;\n",
       "    }\n",
       "\n",
       "    .dataframe tbody tr th {\n",
       "        vertical-align: top;\n",
       "    }\n",
       "</style>\n",
       "<table border=\"1\" class=\"dataframe\">\n",
       "  <thead>\n",
       "    <tr style=\"text-align: right;\">\n",
       "      <th></th>\n",
       "      <th>reviewText</th>\n",
       "      <th>tag</th>\n",
       "    </tr>\n",
       "  </thead>\n",
       "  <tbody>\n",
       "    <tr>\n",
       "      <th>count</th>\n",
       "      <td>49983</td>\n",
       "      <td>50000</td>\n",
       "    </tr>\n",
       "    <tr>\n",
       "      <th>unique</th>\n",
       "      <td>49982</td>\n",
       "      <td>5</td>\n",
       "    </tr>\n",
       "    <tr>\n",
       "      <th>top</th>\n",
       "      <td>Good</td>\n",
       "      <td>electronics</td>\n",
       "    </tr>\n",
       "    <tr>\n",
       "      <th>freq</th>\n",
       "      <td>2</td>\n",
       "      <td>10000</td>\n",
       "    </tr>\n",
       "  </tbody>\n",
       "</table>\n",
       "</div>"
      ],
      "text/plain": [
       "       reviewText          tag\n",
       "count       49983        50000\n",
       "unique      49982            5\n",
       "top          Good  electronics\n",
       "freq            2        10000"
      ]
     },
     "execution_count": 34,
     "metadata": {},
     "output_type": "execute_result"
    }
   ],
   "source": [
    "reviews.describe()"
   ]
  },
  {
   "cell_type": "markdown",
   "metadata": {},
   "source": [
    "# Preprocess reviews"
   ]
  },
  {
   "cell_type": "code",
   "execution_count": 10,
   "metadata": {
    "collapsed": true
   },
   "outputs": [],
   "source": [
    "from nltk.tokenize import RegexpTokenizer\n",
    "from nltk.corpus import stopwords\n",
    "from stop_words import get_stop_words\n",
    "from nltk.stem.snowball import SnowballStemmer\n",
    "from gensim import corpora, models\n",
    "import gensim"
   ]
  },
  {
   "cell_type": "code",
   "execution_count": 11,
   "metadata": {
    "collapsed": true
   },
   "outputs": [],
   "source": [
    "tokenizer = RegexpTokenizer(r'\\w+')"
   ]
  },
  {
   "cell_type": "code",
   "execution_count": 12,
   "metadata": {
    "collapsed": true
   },
   "outputs": [],
   "source": [
    "nltk_stpwd = stopwords.words('english')\n",
    "stop_words_stpwd = get_stop_words('en')\n",
    "merged_stopwords = list(set(nltk_stpwd + stop_words_stpwd))"
   ]
  },
  {
   "cell_type": "code",
   "execution_count": 13,
   "metadata": {
    "collapsed": true
   },
   "outputs": [],
   "source": [
    "sb_stemmer = SnowballStemmer('english')"
   ]
  },
  {
   "cell_type": "code",
   "execution_count": 30,
   "metadata": {
    "collapsed": true
   },
   "outputs": [],
   "source": [
    "num_reviews = reviews.shape[0]\n",
    "\n",
    "doc_set = [reviews.reviewText[i] for i in range(num_reviews)]\n",
    "\n",
    "texts = []\n",
    "\n",
    "for doc in doc_set:\n",
    "    if type(doc) is str:\n",
    "        tokens = tokenizer.tokenize(doc.lower())\n",
    "        stopped_tokens = [token for token in tokens if not token in merged_stopwords]\n",
    "        stemmed_tokens = [sb_stemmer.stem(token) for token in stopped_tokens]\n",
    "        texts.append(stemmed_tokens)"
   ]
  },
  {
   "cell_type": "code",
   "execution_count": 25,
   "metadata": {},
   "outputs": [
    {
     "data": {
      "text/plain": [
       "49983"
      ]
     },
     "execution_count": 25,
     "metadata": {},
     "output_type": "execute_result"
    }
   ],
   "source": [
    "len(texts)"
   ]
  },
  {
   "cell_type": "markdown",
   "metadata": {},
   "source": [
    "# Transforming tokenized documents into an id-term dictionary"
   ]
  },
  {
   "cell_type": "code",
   "execution_count": 16,
   "metadata": {},
   "outputs": [
    {
     "name": "stdout",
     "output_type": "stream",
     "text": [
      "Dictionary(39692 unique tokens: ['acidiccon', 'afullmark', 'barley', 'becom', 'behind']...)\n"
     ]
    }
   ],
   "source": [
    "texts_dict = gensim.corpora.Dictionary(texts)\n",
    "texts_dict.save('reviews.dict')\n",
    "# Examine each token’s unique id\n",
    "print(texts_dict)"
   ]
  },
  {
   "cell_type": "code",
   "execution_count": 17,
   "metadata": {},
   "outputs": [
    {
     "name": "stdout",
     "output_type": "stream",
     "text": [
      "Dictionary(4267 unique tokens: ['becom', 'behind', 'bottl', 'brush', 'clean']...)\n",
      "top terms:\n",
      "[('becom', 0), ('behind', 1), ('bottl', 2), ('brush', 3), ('clean', 4), ('complic', 5), ('dirt', 6), ('easi', 7), ('enough', 8), ('even', 9)]\n"
     ]
    }
   ],
   "source": [
    "import operator\n",
    "texts_dict.filter_extremes(no_below=30, no_above=0.15) # inlace filter\n",
    "print(texts_dict)\n",
    "print(\"top terms:\")\n",
    "print(sorted(texts_dict.token2id.items(), key=operator.itemgetter(1), reverse = False)[:10])"
   ]
  },
  {
   "cell_type": "markdown",
   "metadata": {},
   "source": [
    "# Creating bag of words"
   ]
  },
  {
   "cell_type": "code",
   "execution_count": 18,
   "metadata": {},
   "outputs": [
    {
     "data": {
      "text/plain": [
       "49983"
      ]
     },
     "execution_count": 18,
     "metadata": {},
     "output_type": "execute_result"
    }
   ],
   "source": [
    "corpus = [texts_dict.doc2bow(text) for text in texts]\n",
    "len(corpus)"
   ]
  },
  {
   "cell_type": "code",
   "execution_count": 19,
   "metadata": {
    "collapsed": true
   },
   "outputs": [],
   "source": [
    "gensim.corpora.MmCorpus.serialize('reviews.mm', corpus)"
   ]
  },
  {
   "cell_type": "markdown",
   "metadata": {},
   "source": [
    "# Training an LDA model"
   ]
  },
  {
   "cell_type": "code",
   "execution_count": 20,
   "metadata": {},
   "outputs": [
    {
     "name": "stderr",
     "output_type": "stream",
     "text": [
      "/Users/admin/anaconda3/lib/python3.6/site-packages/gensim/models/ldamodel.py:497: RuntimeWarning: overflow encountered in exp\n",
      "  expElogthetad = np.exp(Elogthetad)\n",
      "/Users/admin/anaconda3/lib/python3.6/site-packages/gensim/models/ldamodel.py:782: RuntimeWarning: invalid value encountered in absolute\n",
      "  logger.info(\"topic diff=%f, rho=%f\", np.mean(np.abs(diff)), rho)\n"
     ]
    }
   ],
   "source": [
    "lda_model = gensim.models.ldamodel.LdaModel(corpus,num_topics=5,id2word=texts_dict, passes=4)"
   ]
  },
  {
   "cell_type": "code",
   "execution_count": 140,
   "metadata": {},
   "outputs": [
    {
     "data": {
      "text/plain": [
       "[(0,\n",
       "  'nan*\"document\" + nan*\"discharg\" + nan*\"vac\" + nan*\"seldom\" + nan*\"kudo\" + nan*\"illustr\" + nan*\"english\" + nan*\"card\" + nan*\"alarm\" + nan*\"acquir\"'),\n",
       " (1,\n",
       "  'nan*\"document\" + nan*\"discharg\" + nan*\"vac\" + nan*\"seldom\" + nan*\"kudo\" + nan*\"illustr\" + nan*\"english\" + nan*\"card\" + nan*\"alarm\" + nan*\"acquir\"'),\n",
       " (2,\n",
       "  'nan*\"document\" + nan*\"discharg\" + nan*\"vac\" + nan*\"seldom\" + nan*\"kudo\" + nan*\"illustr\" + nan*\"english\" + nan*\"card\" + nan*\"alarm\" + nan*\"acquir\"'),\n",
       " (3,\n",
       "  'nan*\"document\" + nan*\"discharg\" + nan*\"vac\" + nan*\"seldom\" + nan*\"kudo\" + nan*\"illustr\" + nan*\"english\" + nan*\"card\" + nan*\"alarm\" + nan*\"acquir\"'),\n",
       " (4,\n",
       "  'nan*\"document\" + nan*\"discharg\" + nan*\"vac\" + nan*\"seldom\" + nan*\"kudo\" + nan*\"illustr\" + nan*\"english\" + nan*\"card\" + nan*\"alarm\" + nan*\"acquir\"')]"
      ]
     },
     "execution_count": 140,
     "metadata": {},
     "output_type": "execute_result"
    }
   ],
   "source": [
    "lda_model.show_topics(num_topics=5,num_words=10)"
   ]
  },
  {
   "cell_type": "code",
   "execution_count": null,
   "metadata": {
    "collapsed": true
   },
   "outputs": [],
   "source": [
    "reviews['prediction'] = 5\n",
    "for r in range(50000):\n",
    "  doc = reviews.reviewText[r]\n",
    "  if type(doc) is str:\n",
    "        tokens = tokenizer.tokenize(doc.lower())\n",
    "        stopped_tokens = [token for token in tokens if not token in merged_stopwords]\n",
    "        stemmed_tokens = [sb_stemmer.stem(token) for token in stopped_tokens]\n",
    "        bow_vector = texts_dict.doc2bow(stemmed_tokens)\n",
    "        # transform into LDA space\n",
    "        lda_vector = lda_model[bow_vector]\n",
    "        reviews.prediction[r] = sorted(lda_vector, key=lambda item: item[1])[-1][0]"
   ]
  },
  {
   "cell_type": "code",
   "execution_count": null,
   "metadata": {
    "collapsed": true
   },
   "outputs": [],
   "source": [
    "reviews.to_csv('reviews_prediction.csv')"
   ]
  },
  {
   "cell_type": "markdown",
   "metadata": {},
   "source": [
    "# Model evaluation"
   ]
  },
  {
   "cell_type": "code",
   "execution_count": null,
   "metadata": {
    "collapsed": true
   },
   "outputs": [],
   "source": []
  }
 ],
 "metadata": {
  "kernelspec": {
   "display_name": "Python 3",
   "language": "python",
   "name": "python3"
  },
  "language_info": {
   "codemirror_mode": {
    "name": "ipython",
    "version": 3
   },
   "file_extension": ".py",
   "mimetype": "text/x-python",
   "name": "python",
   "nbconvert_exporter": "python",
   "pygments_lexer": "ipython3",
   "version": "3.6.3"
  }
 },
 "nbformat": 4,
 "nbformat_minor": 2
}
